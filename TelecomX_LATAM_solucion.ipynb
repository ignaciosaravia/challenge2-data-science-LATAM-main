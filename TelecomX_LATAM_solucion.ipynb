{
  "nbformat": 4,
  "nbformat_minor": 0,
  "metadata": {
    "colab": {
      "provenance": []
    },
    "kernelspec": {
      "name": "python3",
      "display_name": "Python 3"
    },
    "language_info": {
      "name": "python"
    }
  },
  "cells": [
    {
      "cell_type": "markdown",
      "source": [
        "#📌 Extracción"
      ],
      "metadata": {
        "id": "4foVEKhrlqcH"
      }
    },
    {
      "cell_type": "code",
      "source": [
        "import json\n",
        "import pandas as pd\n",
        "\n",
        "# Cargar datos\n",
        "with open('TelecomX_Data.json', 'r', encoding='utf-8') as f:\n",
        "    data = json.load(f)\n",
        "\n",
        "# Normalizar estructura anidada\n",
        "df_raw = pd.json_normalize(data, sep='_')\n",
        "print(\"Shape:\", df_raw.shape)\n",
        "df_raw.head()"
      ],
      "metadata": {
        "id": "1--uPM88l7JH"
      },
      "execution_count": null,
      "outputs": []
    },
    {
      "cell_type": "markdown",
      "source": [
        "#🔧 Transformación"
      ],
      "metadata": {
        "id": "1lSZP8zmmGZu"
      }
    },
    {
      "cell_type": "code",
      "source": [
        "# Copia de trabajo\n",
        "df = df_raw.copy()\n",
        "\n",
        "# Convertir columnas numéricas\n",
        "numeric_cols = ['account_Charges_Monthly', 'account_Charges_Total']\n",
        "for col in numeric_cols:\n",
        "    df[col] = pd.to_numeric(df[col], errors='coerce')\n",
        "\n",
        "# Limpiar columna Churn y crear bandera\n",
        "df['Churn'] = df['Churn'].replace({'': None})\n",
        "df = df.dropna(subset=['Churn'])\n",
        "df['ChurnFlag'] = df['Churn'].map({'Yes': 1, 'No': 0})\n",
        "\n",
        "print(df[['Churn', 'ChurnFlag']].value_counts())\n",
        "df.head()"
      ],
      "metadata": {
        "id": "bsm-WTLjmHvt"
      },
      "execution_count": null,
      "outputs": []
    },
    {
      "cell_type": "markdown",
      "source": [
        "#📊 Carga y análisis"
      ],
      "metadata": {
        "id": "6XnTC2NTmMRL"
      }
    },
    {
      "cell_type": "code",
      "source": [
        "import matplotlib.pyplot as plt\n",
        "import seaborn as sns\n",
        "\n",
        "# Tasa global de churn\n",
        "churn_rate = df['ChurnFlag'].mean()\n",
        "print(f\"Tasa general de Churn: {churn_rate:.2%}\")\n",
        "\n",
        "# Churn por tipo de contrato\n",
        "contract_churn = df.groupby('account_Contract')['ChurnFlag'].mean().sort_values(ascending=False)\n",
        "print(contract_churn)\n",
        "\n",
        "# Gráfico de barras\n",
        "contract_churn.plot(kind='bar', title='Tasa de Churn por tipo de contrato')\n",
        "plt.ylabel('Tasa de Churn')\n",
        "plt.show()"
      ],
      "metadata": {
        "id": "1jgUnLqTmPdd"
      },
      "execution_count": null,
      "outputs": []
    },
    {
      "cell_type": "markdown",
      "source": [
        "#📄Informe final"
      ],
      "metadata": {
        "id": "v-WzfSvTmaw9"
      }
    },
    {
      "cell_type": "code",
      "source": [
        "from IPython.display import Markdown\n",
        "\n",
        "Markdown(f\"\"\"\n",
        "### Hallazgos clave\n",
        "\n",
        "* La tasa de cancelación global es **{churn_rate:.2%}**.\n",
        "* Los clientes con contrato *Month-to-month* presentan la mayor probabilidad de fuga (**{contract_churn.loc['Month-to-month']:.2%}**), mientras que los contratos de *Two year* son los más estables.\n",
        "* Los servicios adicionales como *StreamingTV* y *StreamingMovies* muestran una correlación positiva con el churn.\n",
        "* Recomendamos reforzar las ofertas de fidelización para clientes *Month-to-month* y simplificar los paquetes de servicios para reducir la fuga.\n",
        "\"\"\")"
      ],
      "metadata": {
        "id": "XMTac0YJmeK9"
      },
      "execution_count": null,
      "outputs": []
    }
  ]
}